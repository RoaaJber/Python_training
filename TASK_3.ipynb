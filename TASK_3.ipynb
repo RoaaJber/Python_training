{
 "cells": [
  {
   "cell_type": "markdown",
   "metadata": {},
   "source": [
    "Exercise 1:\n",
    "create a class called `Point` that takes two parameters `x` and `y` and stores them as attributes. Then create a method called `distance` that takes another `Point` object and calculates the distance between the two points.\n",
    "\n",
    "Create an appropriate `__str__` method for the class."
   ]
  },
  {
   "cell_type": "code",
   "execution_count": 1,
   "metadata": {},
   "outputs": [
    {
     "name": "stdout",
     "output_type": "stream",
     "text": [
      "(1,1)\n",
      "1.0\n"
     ]
    }
   ],
   "source": [
    "class Point:\n",
    "    def __init__(self, x, y):\n",
    "        self.x = x\n",
    "        self.y = y\n",
    "\n",
    "    def distance(self, other):\n",
    "        return ((other.x-self.x)**2 + (other.y-self.y)**2)**0.5\n",
    "    \n",
    "    def __str__(self):\n",
    "        return f\"({self.x},{self.y})\"\n",
    "    \n",
    "p1 = Point(1,1)\n",
    "print(p1)\n",
    "\n",
    "p2 = Point(2,1)\n",
    "print(p1.distance(p2))"
   ]
  },
  {
   "cell_type": "markdown",
   "metadata": {},
   "source": [
    "Exercise 2:\n",
    "- create a class called `Line` that takes two parameters `point1` and `point2` and stores them as attributes. Then create a method called `length` that calculates the length of the line.\n",
    "- the `Line` class should also have a method called `slope` that calculates the slope of the line.\n",
    "- create a method called `point_on_line` that takes a `Point` object and returns `True` if the point is on the line and `False` otherwise.\n",
    "\n",
    "Create an appropriate `__str__` method for the class."
   ]
  },
  {
   "cell_type": "code",
   "execution_count": null,
   "metadata": {},
   "outputs": [],
   "source": [
    "import math\n",
    "class Line:\n",
    "    def __init__(self, point1, point2):\n",
    "        self.point1 = point1\n",
    "        self.point2 = point2\n",
    "\n",
    "    def length(self):\n",
    "        return self.point1.distance(self.point2)\n",
    "    \n",
    "    def slope(self):\n",
    "        if self.point1.x == self.point2.x:\n",
    "            return None\n",
    "        \n",
    "        return (self.point2.y - self.point1.y) / (self.point2.x - self.point1.x)\n",
    "    \n",
    "    def point_on_line(self, point):\n",
    "        distances = self.point1.distance(point) + self.point2.distance(point)\n",
    "        if math.isclose(distances, self.length()):\n",
    "            return True\n",
    "        else:\n",
    "            return False\n",
    "    \n",
    "    def __str__(self):\n",
    "        return f\"A Line from Point {self.point1} to Point {self.point2}\"\n",
    "\n",
    "\n",
    "p1 = Point(1,1)\n",
    "p2 = Point(2,1)\n",
    "\n",
    "l1 = Line(p1, p2)\n",
    "print(l1)\n",
    "print(l1.length())\n",
    "print(l1.slope())\n",
    "\n",
    "p3 = Point(1.5,1)\n",
    "p4 = Point(2,2)\n",
    "\n",
    "print(l1.point_on_line(p3))\n",
    "print(l1.point_on_line(p4))"
   ]
  },
  {
   "cell_type": "markdown",
   "metadata": {},
   "source": [
    "Exercise 3\n",
    "- create a class called `Shape` that takes a list of `Lines` and stores them as an attribute. Then create a method called `perimeter` that calculates the perimeter of the shape.\n",
    "- the `Shape` class should have a method called `draw` that draws the shape using `matplotlib`. use the function `draw_lines` below to draw the lines.\n",
    "- create a method called `point_on_perimeter` that takes a `Point` object and returns `True` if the point is on the perimeter of the shape and `False` otherwise.\n",
    "\n",
    "Create an appropriate `__str__` method for the class."
   ]
  },
  {
   "cell_type": "code",
   "execution_count": null,
   "metadata": {},
   "outputs": [],
   "source": [
    "import matplotlib.pyplot as plt\n",
    "def draw_lines(lines, color=\"red\"):\n",
    "    for line in lines:\n",
    "        plt.plot([line.point1.x, line.point2.x], [line.point1.y, line.point2.y], color)\n",
    "    \n",
    "    plt.axis('equal')\n",
    "    plt.show()"
   ]
  },
  {
   "cell_type": "code",
   "execution_count": null,
   "metadata": {},
   "outputs": [],
   "source": [
    "lass Shape:\n",
    "    def __init__(self, lines):\n",
    "        self.lines = lines\n",
    "\n",
    "    def perimeter(self):\n",
    "        p = 0\n",
    "        for line in self.lines:\n",
    "            p += line.length()\n",
    "        \n",
    "        return p\n",
    "    \n",
    "    def draw(self):\n",
    "        draw_lines(self.lines)\n",
    "    \n",
    "    def point_on_perimeter(self, point):\n",
    "        for line in self.lines:\n",
    "            if line.point_on_line(point):\n",
    "                return True\n",
    "        \n",
    "        return False\n",
    "    \n",
    "    def __str__(self):\n",
    "        return f\"A shape of {len(self.lines)} sides\"\n",
    "    \n",
    "p1 = Point(1,1)\n",
    "p2 = Point(4,1)\n",
    "p3 = Point(5,2)\n",
    "lines = [Line(p1,p2), Line(p2,p3), Line(p1,p3)]\n",
    "s1 = Shape(lines)\n",
    "print(s1)\n",
    "s1.draw()\n",
    "print(s1.perimeter())"
   ]
  }
 ],
 "metadata": {
  "kernelspec": {
   "display_name": "Python 3",
   "language": "python",
   "name": "python3"
  },
  "language_info": {
   "codemirror_mode": {
    "name": "ipython",
    "version": 3
   },
   "file_extension": ".py",
   "mimetype": "text/x-python",
   "name": "python",
   "nbconvert_exporter": "python",
   "pygments_lexer": "ipython3",
   "version": "3.12.4"
  }
 },
 "nbformat": 4,
 "nbformat_minor": 2
}
