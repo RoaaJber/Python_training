{
 "cells": [
  {
   "cell_type": "markdown",
   "metadata": {},
   "source": [
    "<div style=\"display: flex; align-items: center;\">\n",
    "    <img src=\"../img/es_logo.png\" alt=\"title\" style=\"margin-right: 20px;\">\n",
    "    <h1>File Handling and Serialization</h1>\n",
    "</div>"
   ]
  },
  {
   "cell_type": "markdown",
   "metadata": {},
   "source": [
    "#### Exercise 1:\n",
    "Write a python program that creates a file and writes the numbers from 1 to 10 each on a new line. Save your code in a file named `exercise1.py`"
   ]
  },
  {
   "cell_type": "code",
   "execution_count": null,
   "metadata": {},
   "outputs": [],
   "source": [
    "# exercise1.py\n",
    "\n",
    "# Define the filename\n",
    "filename = \"numbers.txt\"\n",
    "\n",
    "# Open the file in write mode ('w')\n",
    "with open(filename, 'w') as f:\n",
    "    # Write numbers from 1 to 10, each followed by a newline character\n",
    "    for number in range(1, 11):\n",
    "        f.write(f\"{number}\\n\")\n",
    "\n",
    "print(f\"Numbers from 1 to 10 have been written to {filename}\")\n"
   ]
  },
  {
   "cell_type": "markdown",
   "metadata": {},
   "source": [
    "#### Exercise 2:\n",
    "Write a python program that asks the user for input and appends the input to a file. The program should keep asking the user for input until the user enters the word \"stop\". Save your code in a file named `exercise2.py`"
   ]
  },
  {
   "cell_type": "code",
   "execution_count": null,
   "metadata": {},
   "outputs": [],
   "source": [
    "# exercise2.py\n",
    "\n",
    "# Define the filename\n",
    "filename = \"input_log.txt\"\n",
    "\n",
    "# Open the file in append mode ('a')\n",
    "with open(filename, 'a') as f:\n",
    "    while True:\n",
    "        # Ask the user for input\n",
    "        user_input = input(\"Enter something (enter 'stop' to end): \")\n",
    "        \n",
    "        # Write the input to the file\n",
    "        f.write(user_input + '\\n')\n",
    "        \n",
    "        # Check if the user wants to stop\n",
    "        if user_input.lower() == 'stop':\n",
    "            break\n",
    "\n",
    "print(f\"Input has been logged to {filename}\")\n"
   ]
  },
  {
   "cell_type": "markdown",
   "metadata": {},
   "source": [
    "#### Exercise 3:\n",
    "Using pickle module, pickle the dictionary `book` and save it to a file. Then load the dictionary back from the file and print it."
   ]
  },
  {
   "cell_type": "code",
   "execution_count": 1,
   "metadata": {},
   "outputs": [],
   "source": [
    "import pickle\n",
    "\n",
    "# Define a sample dictionary\n",
    "book = {\n",
    "    'title': 'Python Programming',\n",
    "    'author': 'John Doe',\n",
    "    'pages': 300,\n",
    "    'published_year': 2023\n",
    "}\n",
    "\n",
    "# File name to save the pickled data\n",
    "filename = 'book.pickle'\n",
    "\n",
    "# Pickle the dictionary and save it to a file\n",
    "with open(filename, 'wb') as f:\n",
    "    pickle.dump(book, f)\n",
    "\n",
    "print(f\"Dictionary 'book' has been pickled and saved to {filename}\")\n",
    "\n",
    "# Load the pickled data from the file\n",
    "with open(filename, 'rb') as f:\n",
    "    loaded_book = pickle.load(f)\n",
    "\n",
    "# Print the loaded dictionary\n",
    "print(\"Loaded dictionary from file:\")\n",
    "print(loaded_book)\n",
    "\n"
   ]
  }
 ],
 "metadata": {
  "kernelspec": {
   "display_name": "Python 3",
   "language": "python",
   "name": "python3"
  },
  "language_info": {
   "codemirror_mode": {
    "name": "ipython",
    "version": 3
   },
   "file_extension": ".py",
   "mimetype": "text/x-python",
   "name": "python",
   "nbconvert_exporter": "python",
   "pygments_lexer": "ipython3",
   "version": "3.11.3"
  }
 },
 "nbformat": 4,
 "nbformat_minor": 2
}
