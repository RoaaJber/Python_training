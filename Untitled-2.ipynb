{
 "cells": [
  {
   "cell_type": "markdown",
   "metadata": {},
   "source": [
    "1. to complete the code to print out Hello Python! in a formatted string."
   ]
  },
  {
   "cell_type": "code",
   "execution_count": 8,
   "metadata": {},
   "outputs": [
    {
     "name": "stdout",
     "output_type": "stream",
     "text": [
      "Hello python\n"
     ]
    }
   ],
   "source": [
    "message = \"Python\"\n",
    "Greeting =  \"{} python\"\n",
    "print (Greeting.format (\"Hello\"))"
   ]
  },
  {
   "cell_type": "markdown",
   "metadata": {},
   "source": [
    "Correct the following code to:\n",
    "\n",
    "Perform the arithmetic operation on a and b.\n",
    "Perform concatenation on a and b.\n"
   ]
  },
  {
   "cell_type": "code",
   "execution_count": 21,
   "metadata": {},
   "outputs": [
    {
     "name": "stdout",
     "output_type": "stream",
     "text": [
      "15\n",
      "510\n"
     ]
    }
   ],
   "source": [
    "a = 5\n",
    "b = \"10\"\n",
    "\n",
    "# perform addition expected output is 15\n",
    "addition = a + int (b) \n",
    "print(addition)\n",
    "\n",
    "\n",
    "# perform concatenation expected output is 510\n",
    "concatenation = str (a) + b\n",
    "print (concatenation)"
   ]
  },
  {
   "cell_type": "markdown",
   "metadata": {},
   "source": [
    "Complete the code to extract and print out the domain name from the email address."
   ]
  },
  {
   "cell_type": "code",
   "execution_count": 23,
   "metadata": {},
   "outputs": [
    {
     "name": "stdout",
     "output_type": "stream",
     "text": [
      "estarta.com\n"
     ]
    }
   ],
   "source": [
    "email = \"python_dev@estarta.com\"\n",
    "\n",
    "# extract domain from email\n",
    "domain = email.split('@')[1]  # Splitting the string at '@' and taking the second part\n",
    "print(domain)"
   ]
  },
  {
   "cell_type": "markdown",
   "metadata": {},
   "source": [
    "Perform the following operations on the \"Cars\" list:\n",
    "\n",
    "Add \"Honda\" to the list.\n",
    "Replace the second element with \"Ford\".\n",
    "Remove \"Toyota\" from the list.\n",
    "Check if \"Subaru\" is in the list."
   ]
  },
  {
   "cell_type": "code",
   "execution_count": 28,
   "metadata": {},
   "outputs": [
    {
     "name": "stdout",
     "output_type": "stream",
     "text": [
      "['Toyota', 'Mercedes', 'BMW', 'Jeep']\n",
      "['Toyota', 'Mercedes', 'BMW', 'Jeep', 'Honda']\n",
      "['Toyota', 'Ford', 'BMW', 'Jeep', 'Honda']\n",
      "['Ford', 'BMW', 'Jeep', 'Honda']\n",
      "False\n"
     ]
    }
   ],
   "source": [
    "\n",
    "cars = [\"Toyota\", \"Mercedes\", \"BMW\", \"Jeep\"]\n",
    "print (cars)\n",
    "\n",
    "# add \"Honda\" to the list\n",
    "cars.append(\"Honda\") \n",
    "print (cars)\n",
    "\n",
    "# replace the second element with \"Ford\"\n",
    "cars[1] = \"Ford\"\n",
    "print (cars)\n",
    "\n",
    "# remove Toyota from the list\n",
    "del cars [0]\n",
    "print(cars)\n",
    "\n",
    "# print True if Subaru is in the list else False\n",
    "print (\"Subaru\" in cars)"
   ]
  },
  {
   "cell_type": "markdown",
   "metadata": {},
   "source": [
    "complete the code to do the following:\n",
    "\n",
    "Create a new dictionary with the following key-value pairs: \"name\": \"Ahmad\", \"age\": 25, \"occupation\": \"doctor\", \"country\": \"Jordan\"\n",
    "Add a new key-value pair with \"city\": \"Amman\"\n",
    "Update the occupation to \"Surgeon\"\n",
    "Remove the \"country\" key-value pair from the dictionary.\n",
    "print out the updated dictionary."
   ]
  },
  {
   "cell_type": "code",
   "execution_count": 48,
   "metadata": {},
   "outputs": [
    {
     "name": "stdout",
     "output_type": "stream",
     "text": [
      "{'name': 'Ahmad', 'age': 25, 'occupation': 'doctor', 'country': 'Jordan', 0: {'city': 'amman'}}\n",
      "{'name': 'Ahmad', 'age': 25, 'occupation': 'Surgeon', 'country': 'Jordan', 0: {'city': 'amman'}}\n",
      "{'name': 'Ahmad', 'age': 25, 'occupation': 'Surgeon', 0: {'city': 'amman'}}\n"
     ]
    }
   ],
   "source": [
    "# complete the code to perform the operations listed above\n",
    "person = {\"name\": \"Ahmad\", \"age\": 25, \"occupation\": \"doctor\", \"country\": \"Jordan\"}\n",
    "\n",
    "#Add a new key-value pair with \"city\": \"Amman\"\n",
    "person [0] = {\"city\":\"amman\" }\n",
    "print(person)\n",
    "\n",
    "#Update the occupation to \"Surgeon\"\n",
    "person[\"occupation\"] = \"Surgeon\"\n",
    "print (person)\n",
    "\n",
    "#Remove the \"country\" key-value pair from the dictionary.\n",
    "del person[\"country\"]\n",
    "print (person)\n"
   ]
  },
  {
   "cell_type": "markdown",
   "metadata": {},
   "source": [
    "Complete the folowing opertasions on the \"numbers\" set:\n",
    "\n",
    "Check if 4 is in the set.\n",
    "Add 5 to the set.\n",
    "Remove 3 from the set.\n",
    "Try to add a duplicate element to the set.\n",
    "Create a new set that contains numbers from in the range of m+1 to m+10, where m is the maximum number in the \"numbers\" set.\n",
    "Create a set that is the union of the two sets."
   ]
  },
  {
   "cell_type": "code",
   "execution_count": 52,
   "metadata": {},
   "outputs": [
    {
     "name": "stdout",
     "output_type": "stream",
     "text": [
      "False\n",
      "{1, 2, 3, 5, 7, 8, 9, 16}\n",
      "{1, 2, 3, 5, 7, 8, 9, 16}\n",
      "{2, 5}\n"
     ]
    }
   ],
   "source": [
    "numbers = {2, 5, 16, 8, 7, 9, 3, 1}\n",
    "\n",
    "# MY CODE:\n",
    "# 1. Check if 4 is in the set:\n",
    "print (4 in numbers)\n",
    "\n",
    "# 2. Add 5 to the set.\n",
    "numbers.add(5)\n",
    "print(numbers)\n",
    "\n",
    "# 3. Remove 3 from the set.\n",
    "numbers.remove(3)\n",
    "\n",
    "#4.Try to add a duplicate element to the set.\n",
    "set = { 2  , 5 , 16 , 8 , 7 , 9 , 3 , 1 }\n",
    "new_set = {2, 5}\n",
    "\n",
    "# print the union of the two sets\n",
    "print (set.union(new_set)   )\n",
    "\n",
    "#print(new_set)\n",
    "print (new_set)"
   ]
  }
 ],
 "metadata": {
  "kernelspec": {
   "display_name": "Python 3",
   "language": "python",
   "name": "python3"
  },
  "language_info": {
   "codemirror_mode": {
    "name": "ipython",
    "version": 3
   },
   "file_extension": ".py",
   "mimetype": "text/x-python",
   "name": "python",
   "nbconvert_exporter": "python",
   "pygments_lexer": "ipython3",
   "version": "3.12.4"
  }
 },
 "nbformat": 4,
 "nbformat_minor": 2
}
